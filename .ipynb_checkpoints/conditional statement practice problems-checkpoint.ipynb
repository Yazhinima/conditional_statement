{
 "cells": [
  {
   "cell_type": "markdown",
   "metadata": {},
   "source": [
    "practice problems conditional statement\n"
   ]
  },
  {
   "cell_type": "markdown",
   "metadata": {},
   "source": [
    "# problem 1: Given two numbers, print their sum. However, if the two numbers are the same, return double their sum."
   ]
  },
  {
   "cell_type": "code",
   "execution_count": 4,
   "metadata": {},
   "outputs": [
    {
     "name": "stdout",
     "output_type": "stream",
     "text": [
      "the doubled value of the two num is :  80\n"
     ]
    }
   ],
   "source": [
    "num1 = 20\n",
    "num2 = 20\n",
    "\n",
    "if num1 != num2:\n",
    "    print(\"the sum of the two different number is : \", num1+num2) \n",
    "else:\n",
    "    print(\"the doubled value of the two num is : \", 2 * (num1+num2))"
   ]
  },
  {
   "cell_type": "markdown",
   "metadata": {},
   "source": [
    "# 2 Given a Cost price and Selling price of a product,write program to calculate profit or loss"
   ]
  },
  {
   "cell_type": "code",
   "execution_count": 15,
   "metadata": {},
   "outputs": [
    {
     "name": "stdout",
     "output_type": "stream",
     "text": [
      "Profit for the product is :  300.0 %\n"
     ]
    }
   ],
   "source": [
    "cost_price = 1000\n",
    "selling_price = 4000\n",
    "\n",
    "profit = selling_price - cost_price\n",
    "loss = cost_price - selling_price\n",
    "\n",
    "if selling_price > cost_price:\n",
    "    print(\"Profit for the product is : \", (profit/cost_price) * 100, \"%\")\n",
    "elif cost_price > selling_price:\n",
    "    print(\"Loss for the product is : \", (loss/cost_price) * 100, \"%\")\n",
    "else:\n",
    "    print(\"No gain or loss, the product sold at the cost_price \")\n",
    "    "
   ]
  },
  {
   "cell_type": "markdown",
   "metadata": {},
   "source": [
    "# 3 Write a program to input basic salary of an employee and calculate gross salary according to given conditions. Basic Salary <= 10000 : HRA = 20%, DA = 80% Basic Salary is between 10001 to 20000 : HRA = 25%, DA = 90% Basic Salary >= 20001 : HRA = 30%, DA = 95%"
   ]
  },
  {
   "cell_type": "code",
   "execution_count": 25,
   "metadata": {},
   "outputs": [
    {
     "name": "stdout",
     "output_type": "stream",
     "text": [
      "Enter your basic salary : 25000\n",
      "The gross salary is :  56250.0\n"
     ]
    }
   ],
   "source": [
    "basic_salary = int(input(\"Enter your basic salary : \"))\n",
    "\n",
    "salary1_10k = (basic_salary + basic_salary * (20/100) + basic_salary * (80/100))\n",
    "salary2_20k = (basic_salary + basic_salary * (25/100) + basic_salary * (90/100))\n",
    "salary3_30k = (basic_salary + basic_salary * (30/100) + basic_salary * (95/100))\n",
    "\n",
    "if basic_salary <= 10000:\n",
    "    print(\"The gross salary is : \", salary1_10k)\n",
    "elif basic_salary >= 10001 and basic_salary <= 20000:\n",
    "    print(\"The gross salary is : \", salary2_20k)\n",
    "elif basic_salary >= 20001:\n",
    "    print(\"The gross salary is : \", salary3_30k)\n",
    "else:\n",
    "    print(\"Please enter a valid amount.\")"
   ]
  },
  {
   "cell_type": "markdown",
   "metadata": {},
   "source": [
    "# 4 Write a program to check if given year is leap year or not. Leap year : A year is said to be leap year, if the year is exactly divisible by 4 but and not divisible by 100"
   ]
  },
  {
   "cell_type": "code",
   "execution_count": 30,
   "metadata": {},
   "outputs": [
    {
     "name": "stdout",
     "output_type": "stream",
     "text": [
      "enter the year to find is it leap year or not : 2020\n",
      "The year you entered is a leap year.\n"
     ]
    }
   ],
   "source": [
    "year = int(input(\"enter the year to find is it leap year or not : \"))\n",
    "\n",
    "if year % 4 == 0 and year % 100 != 0:\n",
    "    print(\"The year you entered is a leap year.\")\n",
    "else:\n",
    "    print(\"This is not a leap year.\")"
   ]
  },
  {
   "cell_type": "markdown",
   "metadata": {},
   "source": [
    "# 5 Write a program to check whether triangle is equilateral, scalene or isosceles A triangle is said Equilateral Triangle, if all its sides are equal. If a, b, c are three sides of triangle. Then, the triangle is equilateral only if a == b == c.\n",
    "A triangle is said Isosceles Triangle, if its two sides are equal. If a, b, c are three sides of triangle. Then, the     \n",
    "triangle is isosceles if either a == b or a == c or b == c.\n",
    "A triangle is said Scalene Triangle, if none of its sides are equal. "
   ]
  },
  {
   "cell_type": "code",
   "execution_count": 40,
   "metadata": {},
   "outputs": [
    {
     "name": "stdout",
     "output_type": "stream",
     "text": [
      "This is a \"scalene Triangle\". \n"
     ]
    }
   ],
   "source": [
    "a_side = 10\n",
    "b_side = 20\n",
    "c_side = 30\n",
    "\n",
    "if a_side == b_side == c_side:\n",
    "    print(\"\"\"This is a \"Equilateral Triangle\". \"\"\")\n",
    "elif a_side == b_side or b_side == c_side or a_side == c_side:\n",
    "    print(\"\"\"This is a \"Isoceles Triangle\". \"\"\")\n",
    "else:\n",
    "    print(\"\"\"This is a \"scalene Triangle\". \"\"\")"
   ]
  }
 ],
 "metadata": {
  "kernelspec": {
   "display_name": "Python 3",
   "language": "python",
   "name": "python3"
  },
  "language_info": {
   "codemirror_mode": {
    "name": "ipython",
    "version": 3
   },
   "file_extension": ".py",
   "mimetype": "text/x-python",
   "name": "python",
   "nbconvert_exporter": "python",
   "pygments_lexer": "ipython3",
   "version": "3.7.4"
  }
 },
 "nbformat": 4,
 "nbformat_minor": 2
}
